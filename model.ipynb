{
 "metadata": {
  "language_info": {
   "codemirror_mode": {
    "name": "ipython",
    "version": 3
   },
   "file_extension": ".py",
   "mimetype": "text/x-python",
   "name": "python",
   "nbconvert_exporter": "python",
   "pygments_lexer": "ipython3",
   "version": "3.8.5-final"
  },
  "orig_nbformat": 2,
  "kernelspec": {
   "name": "python3",
   "display_name": "Python 3.8.5 64-bit (conda)",
   "metadata": {
    "interpreter": {
     "hash": "79a64a4a47c854c13f0d5419943dc22056d2e257baf076cce3be900743c940b0"
    }
   }
  }
 },
 "nbformat": 4,
 "nbformat_minor": 2,
 "cells": [
  {
   "cell_type": "code",
   "execution_count": 4,
   "metadata": {},
   "outputs": [
    {
     "output_type": "stream",
     "name": "stdout",
     "text": [
      "1.7.1\n"
     ]
    }
   ],
   "source": [
    "'''\n",
    "    import lib\n",
    "'''\n",
    "# matplotlib\n",
    "import random\n",
    "import os\n",
    "import shutil\n",
    "import torch\n",
    "import torchvision\n",
    "import numpy as np\n",
    "from PIL import Image\n",
    "from matplotlib import pyplot as plt\n",
    "\n",
    "torch.manual_seed(0)\n",
    "\n",
    "print(torch.__version__)"
   ]
  },
  {
   "cell_type": "code",
   "execution_count": null,
   "metadata": {},
   "outputs": [],
   "source": [
    "'''\n",
    "    Prepare training and test sets\n",
    "'''\n",
    "className = ['normal', 'viral', 'covid',  'other'] # other include bacterial, fungal, lipoid and tuberculosis etc.\n",
    "rootDir = 'CovidDatabase'\n",
    "sourceDirs = ['Normal', 'ViralPneumonia', 'Covid', 'Other']\n",
    "\n",
    "# create test set\n",
    "if os.path.isdir(os.path.join(rootDir, sourceDirs[1])):\n",
    "    os.mkdir(os.path.join(rootDir, 'testSet'))\n",
    "    \n",
    "    # if exist dir, rename the dir\n",
    "    for i, d in enumerate(sourceDirs):\n",
    "        os.rename(os.path.join(rootDir, d), os.path.join(rootDir, className[i]))\n",
    "\n",
    "    # create the test set dir\n",
    "    for i in className:\n",
    "        os.mkdir(os.path.join(rootDir, 'test, i'))\n",
    "\n",
    "    # todo\n",
    "    # create test set"
   ]
  }
 ]
}